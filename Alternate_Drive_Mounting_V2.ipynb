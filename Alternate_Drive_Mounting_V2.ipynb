{
  "nbformat": 4,
  "nbformat_minor": 0,
  "metadata": {
    "colab": {
      "name": "Alternate Drive Mounting (V2)",
      "provenance": []
    },
    "kernelspec": {
      "name": "python3",
      "display_name": "Python 3"
    },
    "language_info": {
      "name": "python"
    }
  },
  "cells": [
    {
      "cell_type": "code",
      "source": [
        "#@title Install & authorize your Google Drive account into ocamlfuse\n",
        "# Add repository and install Google Drive OCamlfuse\n",
        "!wget -q https://launchpad.net/~alessandro-strada/+archive/ubuntu/ppa/+files/google-drive-ocamlfuse_0.7.30-1ubuntu1~bpo22.04.1_amd64.deb\n",
        "!sudo apt-get -qq install /content/google-drive-ocamlfuse_0.7.30-1ubuntu1~bpo22.04.1_amd64.deb > /dev/null\n",
        "!rm -f /content/google-drive-ocamlfuse_0.7.30-1ubuntu1~bpo22.04.1_amd64.deb\n",
        "\n",
        "# Mount Google Drive\n",
        "!google-drive-ocamlfuse"
      ],
      "metadata": {
        "cellView": "form",
        "id": "Ltr8ultwitsR"
      },
      "execution_count": null,
      "outputs": []
    },
    {
      "cell_type": "code",
      "source": [
        "#@title Mount Google Drive\n",
        "# Install w3m and set it as default web browser\n",
        "!sudo apt-get install w3m\n",
        "!xdg-settings set default-web-browser w3m.desktop\n",
        "\n",
        "# Create a drive directory and mount Google Drive\n",
        "%cd /content\n",
        "!mkdir drive\n",
        "%cd drive\n",
        "!mkdir \"MyDrive\"\n",
        "!google-drive-ocamlfuse \"/content/drive/MyDrive\"\n",
        "\n",
        "# Change back to content directory\n",
        "%cd /content"
      ],
      "metadata": {
        "cellView": "form",
        "id": "FGC6W2nJjHvZ"
      },
      "execution_count": null,
      "outputs": []
    }
  ]
}
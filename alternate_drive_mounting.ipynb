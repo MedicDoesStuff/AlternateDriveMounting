{
  "nbformat": 4,
  "nbformat_minor": 0,
  "metadata": {
    "colab": {
      "name": "Alternate Drive Mounting",
      "provenance": []
    },
    "kernelspec": {
      "name": "python3",
      "display_name": "Python 3"
    },
    "language_info": {
      "name": "python"
    }
  },
  "cells": [
    {
      "cell_type": "code",
      "execution_count": null,
      "metadata": {
        "id": "P_OASR0A73eC"
      },
      "outputs": [],
      "source": [
        "!sudo add-apt-repository ppa:alessandro-strada/ppa\n",
        "!sudo apt update && sudo apt install google-drive-ocamlfuse\n",
        "!google-drive-ocamlfuse"
      ]
    },
    {
      "cell_type": "markdown",
      "source": [
        "**You'll see this oAUTH link above. just click the link and choose the account you are gonna authorize.**\n",
        "\n",
        "*(Always disable \"Remember this approval for the next 30 days\")*\n",
        "\n",
        "**Proceed to run other cells after authorization.**"
      ],
      "metadata": {
        "id": "pa4ZYooH8tr8"
      }
    },
    {
      "cell_type": "code",
      "source": [
        "!sudo apt-get install w3m # to act as web browser \n",
        "!xdg-settings set default-web-browser w3m.desktop # to set default browser"
      ],
      "metadata": {
        "id": "WqLsapZ08BQs"
      },
      "execution_count": null,
      "outputs": []
    },
    {
      "cell_type": "code",
      "source": [
        "%cd /content\n",
        "!mkdir drive\n",
        "%cd drive\n",
        "!mkdir \"MyDrive\"\n",
        "!google-drive-ocamlfuse \"/content/drive/MyDrive\"\n",
        "%cd /content"
      ],
      "metadata": {
        "id": "iP7bcRxw8KYT"
      },
      "execution_count": null,
      "outputs": []
    }
  ]
}

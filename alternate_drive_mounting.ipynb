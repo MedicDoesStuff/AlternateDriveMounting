{
  "nbformat": 4,
  "nbformat_minor": 0,
  "metadata": {
    "colab": {
      "name": "Alternate Drive Mounting",
      "provenance": []
    },
    "kernelspec": {
      "name": "python3",
      "display_name": "Python 3"
    },
    "language_info": {
      "name": "python"
    }
  },
  "cells": [
    {
      "cell_type": "code",
      "execution_count": null,
      "metadata": {
        "id": "P_OASR0A73eC"
      },
      "outputs": [],
      "source": [
        "# Add repository and install Google Drive OCamlfuse\n",
        "!sudo add-apt-repository ppa:alessandro-strada/ppa -y\n",
        "!sudo apt update && sudo apt install google-drive-ocamlfuse\n",
        "\n",
        "# Mount Google Drive\n",
        "!google-drive-ocamlfuse"
      ]
    },
    {
      "cell_type": "code",
      "source": [
        "# Install w3m and set it as default web browser\n",
        "!sudo apt-get install w3m\n",
        "!xdg-settings set default-web-browser w3m.desktop\n",
        "\n",
        "# Create a drive directory and mount Google Drive\n",
        "%cd /content\n",
        "!mkdir drive\n",
        "%cd drive\n",
        "!mkdir \"MyDrive\"\n",
        "!google-drive-ocamlfuse \"/content/drive/MyDrive\"\n",
        "\n",
        "# Change back to content directory\n",
        "%cd /content"
      ],
      "metadata": {
        "id": "iP7bcRxw8KYT"
      },
      "execution_count": null,
      "outputs": []
    }
  ]
}
